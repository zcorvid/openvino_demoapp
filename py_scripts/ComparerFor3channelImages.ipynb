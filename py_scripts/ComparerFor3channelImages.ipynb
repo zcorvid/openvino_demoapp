{
 "cells": [
  {
   "cell_type": "markdown",
   "metadata": {},
   "source": [
    "Это сравнивалка 3-канальных изображений"
   ]
  },
  {
   "cell_type": "code",
   "execution_count": null,
   "metadata": {},
   "outputs": [],
   "source": [
    "import cv2\n",
    "import numpy as np\n",
    "from pathlib import Path\n",
    "import matplotlib.pyplot as plt\n",
    "%matplotlib inline"
   ]
  },
  {
   "cell_type": "code",
   "execution_count": null,
   "metadata": {},
   "outputs": [],
   "source": [
    "dir1 = Path('E:/dir1')\n",
    "dir2 = Path('E:/dir2')\n",
    "dir3 = Path('E:/dir3')\n",
    "maxes = []\n",
    "for path in dir1.iterdir():\n",
    "    im1 = cv2.imread(str(path))\n",
    "    im2 = cv2.imread(str(dir2 / path.name))\n",
    "    #print(np.allclose(im1, im2, 4/256))\n",
    "    #print(np.isclose(im1, im2))\n",
    "    maxes.append(np.sum(im1 != im2))\n",
    "    cv2.imwrite(str(dir3 / path.name), 255 * (im1 != im2))\n",
    "    if (np.sum(im1 != im2) == 20):\n",
    "        plt.imshow(im1 - im2)\n",
    "        print(path.name)\n",
    "    #print(np.max(im1 - im2))\n",
    "print(maxes)\n",
    "print(np.max(maxes))"
   ]
  },
  {
   "cell_type": "code",
   "execution_count": null,
   "metadata": {},
   "outputs": [],
   "source": []
  }
 ],
 "metadata": {
  "kernelspec": {
   "display_name": "Python 3",
   "language": "python",
   "name": "python3"
  },
  "language_info": {
   "codemirror_mode": {
    "name": "ipython",
    "version": 3
   },
   "file_extension": ".py",
   "mimetype": "text/x-python",
   "name": "python",
   "nbconvert_exporter": "python",
   "pygments_lexer": "ipython3",
   "version": "3.8.1"
  }
 },
 "nbformat": 4,
 "nbformat_minor": 2
}
